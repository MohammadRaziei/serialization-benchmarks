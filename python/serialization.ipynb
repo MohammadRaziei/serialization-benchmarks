{
 "cells": [
  {
   "cell_type": "code",
   "execution_count": 1,
   "id": "845781b7",
   "metadata": {},
   "outputs": [],
   "source": [
    "import bson\n",
    "# json parsers\n",
    "import json\n",
    "import yyjson\n",
    "import cysimdjson\n",
    "import rapidjson\n",
    "import ujson\n",
    "# from pyne import jsoncpp\n",
    "import orjson\n",
    "import libpy_simdjson as simdjson\n",
    "import simplejson\n",
    "\n",
    "\n",
    "import msgspec\n",
    "import ormsgpack\n",
    "import msgpack\n",
    "\n",
    "import struct\n",
    "import pickle"
   ]
  },
  {
   "cell_type": "code",
   "execution_count": 2,
   "id": "d6b2ad03",
   "metadata": {},
   "outputs": [],
   "source": [
    "json_filename = \"/mnt/windowsD/Desk/tests/notebooks/mohammad.json\""
   ]
  },
  {
   "cell_type": "code",
   "execution_count": 3,
   "id": "683defa4",
   "metadata": {},
   "outputs": [
    {
     "name": "stdout",
     "output_type": "stream",
     "text": [
      "CPU times: user 6.62 ms, sys: 20.5 ms, total: 27.1 ms\n",
      "Wall time: 110 ms\n"
     ]
    }
   ],
   "source": [
    "%%time\n",
    "with open(json_filename, \"r\") as f:\n",
    "    json_bytes = f.read().encode(\"utf-8\")\n",
    "    "
   ]
  },
  {
   "cell_type": "code",
   "execution_count": 4,
   "id": "4594a981",
   "metadata": {},
   "outputs": [
    {
     "name": "stdout",
     "output_type": "stream",
     "text": [
      "<class 'dict'>\n",
      "80.5 ms ± 4.99 ms per loop (mean ± std. dev. of 7 runs, 10 loops each)\n"
     ]
    }
   ],
   "source": [
    "obj_json = json.loads(json_bytes)\n",
    "print(type(obj_json))\n",
    "%timeit obj_json = json.loads(json_bytes)"
   ]
  },
  {
   "cell_type": "code",
   "execution_count": 5,
   "id": "ec04b775",
   "metadata": {
    "scrolled": true
   },
   "outputs": [
    {
     "name": "stdout",
     "output_type": "stream",
     "text": [
      "<class 'dict'>\n",
      "True\n",
      "84.7 ms ± 1.08 ms per loop (mean ± std. dev. of 7 runs, 10 loops each)\n"
     ]
    }
   ],
   "source": [
    "obj_rapidjson = rapidjson.loads(json_bytes)\n",
    "print(type(obj_rapidjson))\n",
    "print(obj_json == obj_rapidjson)\n",
    "%timeit obj_rapidjson = rapidjson.loads(json_bytes)"
   ]
  },
  {
   "cell_type": "code",
   "execution_count": 6,
   "id": "196cc5b2",
   "metadata": {},
   "outputs": [
    {
     "name": "stdout",
     "output_type": "stream",
     "text": [
      "<class 'cysimdjson.cysimdjson.JSONObject'>\n",
      "True\n",
      "13 ms ± 603 µs per loop (mean ± std. dev. of 7 runs, 100 loops each)\n",
      "47.2 ms ± 6.72 ms per loop (mean ± std. dev. of 7 runs, 10 loops each)\n"
     ]
    }
   ],
   "source": [
    "cysimdjson_parser = cysimdjson.JSONParser()\n",
    "obj_cysimdjson = cysimdjson_parser.parse(json_bytes)\n",
    "print(type(obj_cysimdjson))\n",
    "print(obj_json == obj_cysimdjson.export())\n",
    "%timeit obj_cysimdjson = cysimdjson_parser.parse(json_bytes)\n",
    "%timeit obj_cysimdjson = cysimdjson_parser.parse(json_bytes).export()"
   ]
  },
  {
   "cell_type": "code",
   "execution_count": 7,
   "id": "b3e443ab",
   "metadata": {},
   "outputs": [
    {
     "name": "stdout",
     "output_type": "stream",
     "text": [
      "<class 'cyyjson.Document'>\n",
      "True\n",
      "18.4 ms ± 1.7 ms per loop (mean ± std. dev. of 7 runs, 10 loops each)\n",
      "49.9 ms ± 2.7 ms per loop (mean ± std. dev. of 7 runs, 10 loops each)\n"
     ]
    }
   ],
   "source": [
    "obj_yyjson = yyjson.Document(json_bytes)\n",
    "print(type(obj_yyjson))\n",
    "print(obj_json == obj_yyjson.as_obj) \n",
    "%timeit obj_yyjson = yyjson.Document(json_bytes)\n",
    "%timeit obj_yyjson = yyjson.Document(json_bytes).as_obj"
   ]
  },
  {
   "cell_type": "code",
   "execution_count": 8,
   "id": "8fa72737",
   "metadata": {},
   "outputs": [
    {
     "name": "stdout",
     "output_type": "stream",
     "text": [
      "<class 'dict'>\n",
      "True\n",
      "54.9 ms ± 2.06 ms per loop (mean ± std. dev. of 7 runs, 10 loops each)\n"
     ]
    }
   ],
   "source": [
    "obj_ujson = ujson.loads(json_bytes)\n",
    "print(type(obj_ujson))\n",
    "print(obj_ujson == obj_json) \n",
    "%timeit obj_ujson = ujson.loads(json_bytes)"
   ]
  },
  {
   "cell_type": "code",
   "execution_count": 9,
   "id": "ac4530d6",
   "metadata": {},
   "outputs": [
    {
     "name": "stdout",
     "output_type": "stream",
     "text": [
      "<class 'dict'>\n",
      "True\n",
      "31.9 ms ± 1.45 ms per loop (mean ± std. dev. of 7 runs, 10 loops each)\n"
     ]
    }
   ],
   "source": [
    "obj_orjson = orjson.loads(json_bytes)\n",
    "print(type(obj_orjson))\n",
    "print(obj_orjson == obj_json) \n",
    "%timeit obj_orjson = orjson.loads(json_bytes)"
   ]
  },
  {
   "cell_type": "code",
   "execution_count": 10,
   "id": "64dc6709",
   "metadata": {},
   "outputs": [
    {
     "name": "stdout",
     "output_type": "stream",
     "text": [
      "<class 'libpy_simdjson.parser.Object'>\n",
      "False\n",
      "18.1 ms ± 1.24 ms per loop (mean ± std. dev. of 7 runs, 10 loops each)\n",
      "48.1 ms ± 4.22 ms per loop (mean ± std. dev. of 7 runs, 10 loops each)\n"
     ]
    }
   ],
   "source": [
    "obj_simdjson = simdjson.loads(json_bytes)\n",
    "print(type(obj_simdjson))\n",
    "print(obj_json == obj_simdjson.as_dict()) \n",
    "%timeit obj_simdjson = simdjson.loads(json_bytes)\n",
    "%timeit obj_simdjson = simdjson.loads(json_bytes).as_dict()"
   ]
  },
  {
   "cell_type": "code",
   "execution_count": 11,
   "id": "7acaccfd",
   "metadata": {},
   "outputs": [
    {
     "name": "stdout",
     "output_type": "stream",
     "text": [
      "<class 'libpy_simdjson.parser.Object'>\n",
      "True\n",
      "99.3 ms ± 3.17 ms per loop (mean ± std. dev. of 7 runs, 10 loops each)\n"
     ]
    }
   ],
   "source": [
    "obj_simplejson = simplejson.loads(json_bytes)\n",
    "print(type(obj_simdjson))\n",
    "print(obj_json == obj_simplejson) \n",
    "%timeit obj_simplejson = simplejson.loads(json_bytes)"
   ]
  },
  {
   "cell_type": "code",
   "execution_count": 12,
   "id": "235bc7f5",
   "metadata": {},
   "outputs": [
    {
     "name": "stdout",
     "output_type": "stream",
     "text": [
      "<class 'dict'>\n",
      "True\n",
      "35.5 ms ± 2.9 ms per loop (mean ± std. dev. of 7 runs, 10 loops each)\n"
     ]
    }
   ],
   "source": [
    "decoder = msgspec.json.Decoder()\n",
    "obj_msgspec = decoder.decode(json_bytes)\n",
    "print(type(obj_msgspec))\n",
    "print(obj_json == obj_msgspec) \n",
    "%timeit obj_msgspec = decoder.decode(json_bytes)"
   ]
  },
  {
   "cell_type": "markdown",
   "id": "f3b9ee59",
   "metadata": {},
   "source": [
    "# Encoders"
   ]
  },
  {
   "cell_type": "code",
   "execution_count": 13,
   "id": "1df06cd7",
   "metadata": {},
   "outputs": [
    {
     "data": {
      "text/plain": [
       "18662832"
      ]
     },
     "execution_count": 13,
     "metadata": {},
     "output_type": "execute_result"
    }
   ],
   "source": [
    "import msgspec\n",
    "json_bytes_size = len(json_bytes)\n",
    "json_bytes_size"
   ]
  },
  {
   "cell_type": "code",
   "execution_count": 14,
   "id": "71f7f3cc",
   "metadata": {},
   "outputs": [
    {
     "name": "stdout",
     "output_type": "stream",
     "text": [
      "<class 'bytes'>\n",
      "True\n",
      "0.7336930965246861\n",
      "5.26 ms ± 993 µs per loop (mean ± std. dev. of 7 runs, 100 loops each)\n",
      "20.8 ms ± 1.84 ms per loop (mean ± std. dev. of 7 runs, 10 loops each)\n"
     ]
    }
   ],
   "source": [
    "msgpack_bytes = msgspec.msgpack.encode(obj_json)\n",
    "obj_msgpack = msgspec.msgpack.decode(msgpack_bytes)\n",
    "print(type(msgpack_bytes))\n",
    "print(obj_msgpack == obj_json)\n",
    "print(len(msgpack_bytes) / json_bytes_size) \n",
    "%timeit msgpack_bytes = msgspec.msgpack.encode(obj_json)\n",
    "%timeit obj_msgpack = msgspec.msgpack.decode(msgpack_bytes)"
   ]
  },
  {
   "cell_type": "code",
   "execution_count": 15,
   "id": "e5a6e1c5",
   "metadata": {},
   "outputs": [
    {
     "name": "stdout",
     "output_type": "stream",
     "text": [
      "<class 'bytes'>\n",
      "True\n",
      "0.7336930965246861\n",
      "12.6 ms ± 992 µs per loop (mean ± std. dev. of 7 runs, 100 loops each)\n",
      "40.3 ms ± 5.57 ms per loop (mean ± std. dev. of 7 runs, 10 loops each)\n"
     ]
    }
   ],
   "source": [
    "msgpack_bytes = msgpack.packb(obj_json)\n",
    "print(type(msgpack_bytes))\n",
    "obj_msgpack = msgpack.unpackb(msgpack_bytes)\n",
    "print(obj_msgpack == obj_json)\n",
    "print(len(msgpack_bytes) / json_bytes_size) \n",
    "%timeit msgpack_bytes = msgpack.packb(obj_json)\n",
    "%timeit obj_msgpack = msgpack.unpackb(msgpack_bytes)"
   ]
  },
  {
   "cell_type": "code",
   "execution_count": 16,
   "id": "2d0c6088",
   "metadata": {},
   "outputs": [
    {
     "name": "stdout",
     "output_type": "stream",
     "text": [
      "<class 'bytes'>\n",
      "True\n",
      "0.7336930965246861\n",
      "5.75 ms ± 588 µs per loop (mean ± std. dev. of 7 runs, 100 loops each)\n",
      "26.8 ms ± 260 µs per loop (mean ± std. dev. of 7 runs, 10 loops each)\n"
     ]
    }
   ],
   "source": [
    "ormsgpack_bytes = ormsgpack.packb(obj_json, option=ormsgpack.OPT_NAIVE_UTC | ormsgpack.OPT_SERIALIZE_NUMPY)\n",
    "print(type(ormsgpack_bytes))\n",
    "obj_ormsgpack = ormsgpack.unpackb(msgpack_bytes)\n",
    "print(obj_ormsgpack == obj_json)\n",
    "print(len(ormsgpack_bytes) / json_bytes_size) \n",
    "%timeit ormsgpack_bytes = ormsgpack.packb(obj_json)\n",
    "%timeit obj_ormsgpack = ormsgpack.unpackb(msgpack_bytes)"
   ]
  },
  {
   "cell_type": "code",
   "execution_count": 17,
   "id": "b2d07d12",
   "metadata": {},
   "outputs": [
    {
     "name": "stdout",
     "output_type": "stream",
     "text": [
      "<class 'bytes'>\n",
      "True\n",
      "0.9133186217397231\n",
      "1.63 s ± 182 ms per loop (mean ± std. dev. of 7 runs, 1 loop each)\n",
      "1.6 s ± 127 ms per loop (mean ± std. dev. of 7 runs, 1 loop each)\n"
     ]
    }
   ],
   "source": [
    "yaml_bytes = msgspec.yaml.encode(obj_json)\n",
    "obj_yaml = msgspec.yaml.decode(yaml_bytes)\n",
    "print(type(yaml_bytes))\n",
    "print(obj_yaml == obj_json)\n",
    "print(len(yaml_bytes) / json_bytes_size) \n",
    "%timeit yaml_bytes = msgspec.yaml.encode(obj_json)\n",
    "%timeit obj_yaml = msgspec.yaml.decode(yaml_bytes)"
   ]
  },
  {
   "cell_type": "code",
   "execution_count": 18,
   "id": "e4c24f6c",
   "metadata": {},
   "outputs": [
    {
     "name": "stdout",
     "output_type": "stream",
     "text": [
      "<class 'bytes'>\n",
      "True\n",
      "0.6074879203756429\n",
      "12.7 ms ± 292 µs per loop (mean ± std. dev. of 7 runs, 100 loops each)\n",
      "21.3 ms ± 535 µs per loop (mean ± std. dev. of 7 runs, 10 loops each)\n"
     ]
    }
   ],
   "source": [
    "pkl_bytes = pickle.dumps(obj_json)\n",
    "obj_pkl = pickle.loads(pkl_bytes)\n",
    "print(type(pkl_bytes))\n",
    "print(obj_pkl == obj_json)\n",
    "print(len(pkl_bytes) / json_bytes_size) \n",
    "%timeit pkl_bytes = pickle.dumps(obj_json)\n",
    "%timeit obj_pkl = pickle.loads(pkl_bytes)"
   ]
  },
  {
   "cell_type": "code",
   "execution_count": 19,
   "id": "016de9a5",
   "metadata": {},
   "outputs": [
    {
     "ename": "TypeError",
     "evalue": "unhashable type: 'dict'",
     "output_type": "error",
     "traceback": [
      "\u001b[0;31m---------------------------------------------------------------------------\u001b[0m",
      "\u001b[0;31mTypeError\u001b[0m                                 Traceback (most recent call last)",
      "Cell \u001b[0;32mIn[19], line 1\u001b[0m\n\u001b[0;32m----> 1\u001b[0m struct_bytes \u001b[38;5;241m=\u001b[39m \u001b[43mstruct\u001b[49m\u001b[38;5;241;43m.\u001b[39;49m\u001b[43mpack\u001b[49m\u001b[43m(\u001b[49m\u001b[43mobj_json\u001b[49m\u001b[43m)\u001b[49m\n\u001b[1;32m      2\u001b[0m obj_struct \u001b[38;5;241m=\u001b[39m struct\u001b[38;5;241m.\u001b[39munpack(struct_bytes)\n\u001b[1;32m      3\u001b[0m \u001b[38;5;28mprint\u001b[39m(\u001b[38;5;28mtype\u001b[39m(struct_bytes))\n",
      "\u001b[0;31mTypeError\u001b[0m: unhashable type: 'dict'"
     ]
    }
   ],
   "source": [
    "struct_bytes = struct.pack(obj_json)\n",
    "obj_struct = struct.unpack(struct_bytes)\n",
    "print(type(struct_bytes))\n",
    "print(obj_struct == obj_json)\n",
    "print(len(struct_bytes) / json_bytes_size) \n",
    "%timeit struct_bytes = pickle.dumps(obj_json)\n",
    "%timeit obj_struct = pickle.loads(struct_bytes)"
   ]
  },
  {
   "cell_type": "code",
   "execution_count": null,
   "id": "a09b6d46",
   "metadata": {},
   "outputs": [],
   "source": [
    "import jsonic\n",
    "obj_jsonic = jsonic.serialize(obj_json)"
   ]
  },
  {
   "cell_type": "code",
   "execution_count": 27,
   "id": "9ef7d842",
   "metadata": {},
   "outputs": [
    {
     "name": "stdout",
     "output_type": "stream",
     "text": [
      "<class 'bytes'>\n",
      "True\n",
      "0.7474564953486159\n",
      "22.1 ms ± 540 µs per loop (mean ± std. dev. of 7 runs, 10 loops each)\n",
      "35.8 ms ± 279 µs per loop (mean ± std. dev. of 7 runs, 10 loops each)\n"
     ]
    }
   ],
   "source": [
    "import ubjson\n",
    "ubjson_bytes = ubjson.dumpb(obj_json)\n",
    "obj_ubjson = ubjson.loadb(ubjson_bytes)\n",
    "print(type(ubjson_bytes))\n",
    "print(obj_ubjson == obj_json)\n",
    "print(len(ubjson_bytes) / json_bytes_size) \n",
    "%timeit ubjson_bytes = ubjson.dumpb(obj_json)\n",
    "%timeit obj_ubjson = ubjson.loadb(ubjson_bytes)"
   ]
  },
  {
   "cell_type": "code",
   "execution_count": 32,
   "id": "124362d3",
   "metadata": {},
   "outputs": [
    {
     "name": "stdout",
     "output_type": "stream",
     "text": [
      "<class 'bytes'>\n",
      "True\n",
      "0.7695820227069504\n",
      "116 ms ± 790 µs per loop (mean ± std. dev. of 7 runs, 10 loops each)\n",
      "31.8 ms ± 495 µs per loop (mean ± std. dev. of 7 runs, 10 loops each)\n"
     ]
    }
   ],
   "source": [
    "import bson\n",
    "bson_bytes = bson.encode(obj_json)\n",
    "obj_bson = bson.decode(bson_bytes)\n",
    "print(type(bson_bytes))\n",
    "print(obj_bson == obj_json)\n"
   ]
  }
 ],
 "metadata": {
  "kernelspec": {
   "display_name": "Python 3 (ipykernel)",
   "language": "python",
   "name": "python3"
  },
  "language_info": {
   "codemirror_mode": {
    "name": "ipython",
    "version": 3
   },
   "file_extension": ".py",
   "mimetype": "text/x-python",
   "name": "python",
   "nbconvert_exporter": "python",
   "pygments_lexer": "ipython3",
   "version": "3.10.9"
  }
 },
 "nbformat": 4,
 "nbformat_minor": 5
}
